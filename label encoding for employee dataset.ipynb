{
 "cells": [
  {
   "cell_type": "code",
   "execution_count": 1,
   "id": "ff711066",
   "metadata": {},
   "outputs": [],
   "source": [
    "import pandas as pd\n",
    "import numpy as np"
   ]
  },
  {
   "cell_type": "code",
   "execution_count": 5,
   "id": "770eefe7",
   "metadata": {},
   "outputs": [],
   "source": [
    "import pandas as pd\n",
    "\n",
    "# Load your dataset\n",
    "df_copy = pd.read_csv('employee_data.csv')\n"
   ]
  },
  {
   "cell_type": "code",
   "execution_count": 6,
   "id": "c025761a",
   "metadata": {},
   "outputs": [],
   "source": [
    "# Drop rows with missing values\n",
    "df_cleaned = df_copy.dropna()\n"
   ]
  },
  {
   "cell_type": "code",
   "execution_count": 7,
   "id": "69929af3",
   "metadata": {},
   "outputs": [],
   "source": [
    "# Drop rows with missing values\n",
    "df_cleaned = df_copy.dropna()\n",
    "\n"
   ]
  },
  {
   "cell_type": "code",
   "execution_count": 8,
   "id": "69c73b0c",
   "metadata": {},
   "outputs": [],
   "source": [
    "# Convert categorical values to numerical values (e.g., one-hot encoding)\n",
    "df_cleaned = pd.get_dummies(df_cleaned, columns=['department', 'salary'], drop_first=True)\n"
   ]
  },
  {
   "cell_type": "code",
   "execution_count": 9,
   "id": "5e1d6385",
   "metadata": {},
   "outputs": [],
   "source": [
    "# Define features (X) and target variable (y)\n",
    "X = df_cleaned.drop(columns=['number_project'])  # Assuming 'number_project' is your target variable\n",
    "y = df_cleaned['number_project']\n"
   ]
  },
  {
   "cell_type": "code",
   "execution_count": 10,
   "id": "32deb2c7",
   "metadata": {},
   "outputs": [
    {
     "name": "stdout",
     "output_type": "stream",
     "text": [
      "DataFrame Head:\n",
      "   satisfaction_level  last_evaluation  number_project  average_montly_hours  \\\n",
      "0                0.38             0.53               2                   157   \n",
      "1                0.80             0.86               5                   262   \n",
      "2                0.11             0.88               7                   272   \n",
      "3                0.72             0.87               5                   223   \n",
      "4                0.37             0.52               2                   159   \n",
      "\n",
      "   time_spend_company  Work_accident  quit  promotion_last_5years  \\\n",
      "0                   3              0     1                    0.0   \n",
      "1                   6              0     1                    0.0   \n",
      "2                   4              0     1                    0.0   \n",
      "3                   5              0     1                    0.0   \n",
      "4                   3              0     1                    0.0   \n",
      "\n",
      "   department_RandD  department_accounting  department_hr  \\\n",
      "0             False                  False          False   \n",
      "1             False                  False          False   \n",
      "2             False                  False          False   \n",
      "3             False                  False          False   \n",
      "4             False                  False          False   \n",
      "\n",
      "   department_management  department_marketing  department_product_mng  \\\n",
      "0                  False                 False                   False   \n",
      "1                  False                 False                   False   \n",
      "2                  False                 False                   False   \n",
      "3                  False                 False                   False   \n",
      "4                  False                 False                   False   \n",
      "\n",
      "   department_sales  department_support  department_technical  salary_low  \\\n",
      "0              True               False                 False        True   \n",
      "1              True               False                 False       False   \n",
      "2              True               False                 False       False   \n",
      "3              True               False                 False        True   \n",
      "4              True               False                 False        True   \n",
      "\n",
      "   salary_medium  \n",
      "0          False  \n",
      "1           True  \n",
      "2           True  \n",
      "3          False  \n",
      "4          False  \n",
      "\n",
      "Data Types:\n",
      "satisfaction_level        float64\n",
      "last_evaluation           float64\n",
      "number_project              int64\n",
      "average_montly_hours        int64\n",
      "time_spend_company          int64\n",
      "Work_accident               int64\n",
      "quit                        int64\n",
      "promotion_last_5years     float64\n",
      "department_RandD             bool\n",
      "department_accounting        bool\n",
      "department_hr                bool\n",
      "department_management        bool\n",
      "department_marketing         bool\n",
      "department_product_mng       bool\n",
      "department_sales             bool\n",
      "department_support           bool\n",
      "department_technical         bool\n",
      "salary_low                   bool\n",
      "salary_medium                bool\n",
      "dtype: object\n",
      "\n",
      "Columns in DataFrame:\n",
      "Index(['satisfaction_level', 'last_evaluation', 'number_project',\n",
      "       'average_montly_hours', 'time_spend_company', 'Work_accident', 'quit',\n",
      "       'promotion_last_5years', 'department_RandD', 'department_accounting',\n",
      "       'department_hr', 'department_management', 'department_marketing',\n",
      "       'department_product_mng', 'department_sales', 'department_support',\n",
      "       'department_technical', 'salary_low', 'salary_medium'],\n",
      "      dtype='object')\n"
     ]
    }
   ],
   "source": [
    "import pandas as pd\n",
    "\n",
    "# Assuming df_cleaned is your DataFrame after one-hot encoding\n",
    "# Display the first few rows of the DataFrame\n",
    "print(\"DataFrame Head:\")\n",
    "print(df_cleaned.head())\n",
    "\n",
    "# Check the data types of each column\n",
    "print(\"\\nData Types:\")\n",
    "print(df_cleaned.dtypes)\n",
    "\n",
    "# Check the columns to see if original categorical columns are gone\n",
    "print(\"\\nColumns in DataFrame:\")\n",
    "print(df_cleaned.columns)\n"
   ]
  },
  {
   "cell_type": "code",
   "execution_count": null,
   "id": "e425f200",
   "metadata": {},
   "outputs": [],
   "source": []
  }
 ],
 "metadata": {
  "kernelspec": {
   "display_name": "Python 3 (ipykernel)",
   "language": "python",
   "name": "python3"
  },
  "language_info": {
   "codemirror_mode": {
    "name": "ipython",
    "version": 3
   },
   "file_extension": ".py",
   "mimetype": "text/x-python",
   "name": "python",
   "nbconvert_exporter": "python",
   "pygments_lexer": "ipython3",
   "version": "3.11.5"
  }
 },
 "nbformat": 4,
 "nbformat_minor": 5
}
